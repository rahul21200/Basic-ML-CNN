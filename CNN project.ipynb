{
 "cells": [
  {
   "cell_type": "markdown",
   "id": "9cf6c964",
   "metadata": {},
   "source": [
    "# To classify cats and dogs from given coloured pictures"
   ]
  },
  {
   "cell_type": "markdown",
   "id": "17002c7c",
   "metadata": {},
   "source": [
    "### Details\n",
    "1. Binary classification problem <br>\n",
    "2. coloured Images <br>\n",
    "3. No standard Dimension <br>\n",
    "4. Dataset will be taken from kaggle(site where multiple data science competitions are held, and various datasets are also available) <br>\n",
    "5. We'll have to use the subset of the data <br>"
   ]
  },
  {
   "cell_type": "markdown",
   "id": "e3a8235d",
   "metadata": {},
   "source": [
    "# Importing Libraries"
   ]
  },
  {
   "cell_type": "code",
   "execution_count": 1,
   "id": "77cba13f",
   "metadata": {},
   "outputs": [],
   "source": [
    "import numpy as np\n",
    "import pandas as pd\n",
    "%matplotlib inline\n",
    "import matplotlib as mpl\n",
    "import matplotlib.pyplot as plt"
   ]
  },
  {
   "cell_type": "code",
   "execution_count": 2,
   "id": "ec431e68",
   "metadata": {},
   "outputs": [],
   "source": [
    "import tensorflow as tf\n",
    "from tensorflow import keras"
   ]
  },
  {
   "cell_type": "code",
   "execution_count": 3,
   "id": "d37692e4",
   "metadata": {},
   "outputs": [
    {
     "data": {
      "text/plain": [
       "'2.3.0'"
      ]
     },
     "execution_count": 3,
     "metadata": {},
     "output_type": "execute_result"
    }
   ],
   "source": [
    "tf.__version__"
   ]
  },
  {
   "cell_type": "code",
   "execution_count": 4,
   "id": "ddc118b2",
   "metadata": {},
   "outputs": [],
   "source": [
    "# Dataset consists of 4000 images distributed in to 2000 images for train set(both cats and dogs) ,1000 images for validation\n",
    "# set and 1000 images for test set\n"
   ]
  },
  {
   "cell_type": "markdown",
   "id": "0da59912",
   "metadata": {},
   "source": [
    "# Importing directories"
   ]
  },
  {
   "cell_type": "code",
   "execution_count": 5,
   "id": "a9b7c4b7",
   "metadata": {},
   "outputs": [],
   "source": [
    "train_dir = r\"C:\\Users\\USER\\OneDrive\\Desktop\\ml\\CNN\\train\"\n",
    "valid_dir = r\"C:\\Users\\USER\\OneDrive\\Desktop\\ml\\CNN\\validation\"\n",
    "test_dir = r\"C:\\Users\\USER\\OneDrive\\Desktop\\ml\\CNN\\test\""
   ]
  },
  {
   "cell_type": "markdown",
   "id": "97617ae7",
   "metadata": {},
   "source": [
    "# Data preprocessing\n",
    "Since the data isn't standardised we need to perform some steps\n",
    "<ul>\n",
    "    <li>read the picture files</li>\n",
    "    <li>Decode jpg format into RBG</li>\n",
    "    <li>Convert these files into floating point tensors</li>\n",
    "    <li>Rescale the pixels of range[0 to 255] into [0,1] range</li>\n",
    "</ul><br>\n",
    "This can be done by ImageDataGenerator module of tensorflow library"
   ]
  },
  {
   "cell_type": "code",
   "execution_count": 6,
   "id": "8d1f5e42",
   "metadata": {},
   "outputs": [],
   "source": [
    "from tensorflow.keras.preprocessing.image import ImageDataGenerator"
   ]
  },
  {
   "cell_type": "code",
   "execution_count": 11,
   "id": "00b10698",
   "metadata": {},
   "outputs": [
    {
     "name": "stdout",
     "output_type": "stream",
     "text": [
      "Found 2000 images belonging to 2 classes.\n",
      "Found 1000 images belonging to 2 classes.\n"
     ]
    }
   ],
   "source": [
    "# Generating batches of tensor image data\n",
    "train_datagen = ImageDataGenerator(rescale=1/255)\n",
    "test_datagen = ImageDataGenerator(rescale=1/255)\n",
    "\n",
    "# Since my data is located in folder I need to use the below function\n",
    "train_gen = train_datagen.flow_from_directory(train_dir,\n",
    "                                             target_size = (150,150),\n",
    "                                             batch_size = 20,\n",
    "                                             class_mode = \"binary\")\n",
    "validation_gen = test_datagen.flow_from_directory(valid_dir,\n",
    "                                             target_size = (150,150),\n",
    "                                             batch_size = 20,\n",
    "                                             class_mode = \"binary\")"
   ]
  },
  {
   "cell_type": "code",
   "execution_count": 7,
   "id": "9edfa415",
   "metadata": {},
   "outputs": [],
   "source": [
    "from tensorflow.keras import layers\n",
    "from tensorflow.keras import models"
   ]
  },
  {
   "cell_type": "code",
   "execution_count": 14,
   "id": "3d406422",
   "metadata": {},
   "outputs": [],
   "source": [
    "model = models.Sequential()\n",
    "\n",
    "model.add(layers.Conv2D(32, (3,3), activation = \"relu\", input_shape = (150,150,3)))\n",
    "model.add(layers.MaxPool2D(2,2))\n",
    "\n",
    "model.add(layers.Conv2D(64, (3,3), activation = \"relu\"))\n",
    "model.add(layers.MaxPool2D(2,2))\n",
    "\n",
    "model.add(layers.Conv2D(128, (3,3), activation = \"relu\"))\n",
    "model.add(layers.MaxPool2D(2,2))\n",
    "\n",
    "model.add(layers.Conv2D(128, (3,3), activation = \"relu\"))\n",
    "model.add(layers.MaxPool2D(2,2))\n",
    "\n",
    "model.add(layers.Flatten())\n",
    "model.add(layers.Dense(512, activation = \"relu\"))\n",
    "\n",
    "model.add(layers.Dense(1, activation = \"sigmoid\"))"
   ]
  },
  {
   "cell_type": "code",
   "execution_count": 15,
   "id": "f48354ea",
   "metadata": {},
   "outputs": [
    {
     "name": "stdout",
     "output_type": "stream",
     "text": [
      "Model: \"sequential_1\"\n",
      "_________________________________________________________________\n",
      "Layer (type)                 Output Shape              Param #   \n",
      "=================================================================\n",
      "conv2d_4 (Conv2D)            (None, 148, 148, 32)      896       \n",
      "_________________________________________________________________\n",
      "max_pooling2d_4 (MaxPooling2 (None, 74, 74, 32)        0         \n",
      "_________________________________________________________________\n",
      "conv2d_5 (Conv2D)            (None, 72, 72, 64)        18496     \n",
      "_________________________________________________________________\n",
      "max_pooling2d_5 (MaxPooling2 (None, 36, 36, 64)        0         \n",
      "_________________________________________________________________\n",
      "conv2d_6 (Conv2D)            (None, 34, 34, 128)       73856     \n",
      "_________________________________________________________________\n",
      "max_pooling2d_6 (MaxPooling2 (None, 17, 17, 128)       0         \n",
      "_________________________________________________________________\n",
      "conv2d_7 (Conv2D)            (None, 15, 15, 128)       147584    \n",
      "_________________________________________________________________\n",
      "max_pooling2d_7 (MaxPooling2 (None, 7, 7, 128)         0         \n",
      "_________________________________________________________________\n",
      "flatten_1 (Flatten)          (None, 6272)              0         \n",
      "_________________________________________________________________\n",
      "dense (Dense)                (None, 512)               3211776   \n",
      "_________________________________________________________________\n",
      "dense_1 (Dense)              (None, 1)                 513       \n",
      "=================================================================\n",
      "Total params: 3,453,121\n",
      "Trainable params: 3,453,121\n",
      "Non-trainable params: 0\n",
      "_________________________________________________________________\n"
     ]
    }
   ],
   "source": [
    "model.summary()"
   ]
  },
  {
   "cell_type": "code",
   "execution_count": 19,
   "id": "71fcf43f",
   "metadata": {},
   "outputs": [],
   "source": [
    "from tensorflow.keras import optimizers\n",
    "\n",
    "model.compile(loss = \"binary_crossentropy\",\n",
    "             optimizer = optimizers.RMSprop(lr=1e-4),\n",
    "             metrics=['acc'])"
   ]
  },
  {
   "cell_type": "code",
   "execution_count": 20,
   "id": "3363bfac",
   "metadata": {},
   "outputs": [
    {
     "name": "stdout",
     "output_type": "stream",
     "text": [
      "WARNING:tensorflow:From <ipython-input-20-ddaeff37f3b7>:1: Model.fit_generator (from tensorflow.python.keras.engine.training) is deprecated and will be removed in a future version.\n",
      "Instructions for updating:\n",
      "Please use Model.fit, which supports generators.\n",
      "Epoch 1/20\n",
      "100/100 [==============================] - 57s 575ms/step - loss: 0.6914 - acc: 0.5405 - val_loss: 0.6707 - val_acc: 0.6260\n",
      "Epoch 2/20\n",
      "100/100 [==============================] - 58s 585ms/step - loss: 0.6546 - acc: 0.6240 - val_loss: 0.6368 - val_acc: 0.6490\n",
      "Epoch 3/20\n",
      "100/100 [==============================] - 57s 573ms/step - loss: 0.5998 - acc: 0.6845 - val_loss: 0.6081 - val_acc: 0.6530\n",
      "Epoch 4/20\n",
      "100/100 [==============================] - 52s 522ms/step - loss: 0.5581 - acc: 0.7195 - val_loss: 0.6037 - val_acc: 0.6590\n",
      "Epoch 5/20\n",
      "100/100 [==============================] - 52s 520ms/step - loss: 0.5299 - acc: 0.7260 - val_loss: 0.5881 - val_acc: 0.6820\n",
      "Epoch 6/20\n",
      "100/100 [==============================] - 52s 519ms/step - loss: 0.5103 - acc: 0.7330 - val_loss: 0.5691 - val_acc: 0.6940\n",
      "Epoch 7/20\n",
      "100/100 [==============================] - 53s 526ms/step - loss: 0.4764 - acc: 0.7655 - val_loss: 0.6073 - val_acc: 0.6800\n",
      "Epoch 8/20\n",
      "100/100 [==============================] - 52s 522ms/step - loss: 0.4583 - acc: 0.7775 - val_loss: 0.5646 - val_acc: 0.7090\n",
      "Epoch 9/20\n",
      "100/100 [==============================] - 52s 523ms/step - loss: 0.4339 - acc: 0.7955 - val_loss: 0.5564 - val_acc: 0.6980\n",
      "Epoch 10/20\n",
      "100/100 [==============================] - 52s 521ms/step - loss: 0.4136 - acc: 0.8065 - val_loss: 0.5643 - val_acc: 0.7210\n",
      "Epoch 11/20\n",
      "100/100 [==============================] - 53s 529ms/step - loss: 0.3837 - acc: 0.8305 - val_loss: 0.5622 - val_acc: 0.7250\n",
      "Epoch 12/20\n",
      "100/100 [==============================] - 52s 522ms/step - loss: 0.3517 - acc: 0.8425 - val_loss: 0.5973 - val_acc: 0.6970\n",
      "Epoch 13/20\n",
      "100/100 [==============================] - 52s 516ms/step - loss: 0.3281 - acc: 0.8665 - val_loss: 0.5715 - val_acc: 0.7400\n",
      "Epoch 14/20\n",
      "100/100 [==============================] - 52s 521ms/step - loss: 0.3074 - acc: 0.8755 - val_loss: 0.5939 - val_acc: 0.7140\n",
      "Epoch 15/20\n",
      "100/100 [==============================] - 52s 519ms/step - loss: 0.2901 - acc: 0.8815 - val_loss: 0.6038 - val_acc: 0.7220\n",
      "Epoch 16/20\n",
      "100/100 [==============================] - 52s 523ms/step - loss: 0.2638 - acc: 0.8935 - val_loss: 0.5990 - val_acc: 0.7160\n",
      "Epoch 17/20\n",
      "100/100 [==============================] - 52s 520ms/step - loss: 0.2380 - acc: 0.9105 - val_loss: 0.6296 - val_acc: 0.7240\n",
      "Epoch 18/20\n",
      "100/100 [==============================] - 53s 527ms/step - loss: 0.2189 - acc: 0.9150 - val_loss: 0.6516 - val_acc: 0.7280\n",
      "Epoch 19/20\n",
      "100/100 [==============================] - 52s 522ms/step - loss: 0.1976 - acc: 0.9250 - val_loss: 0.6978 - val_acc: 0.7140\n",
      "Epoch 20/20\n",
      "100/100 [==============================] - 52s 523ms/step - loss: 0.1799 - acc: 0.9360 - val_loss: 0.7927 - val_acc: 0.7060\n"
     ]
    }
   ],
   "source": [
    "history = model.fit_generator(train_gen,\n",
    "                             steps_per_epoch = 100,\n",
    "                             epochs = 20,\n",
    "                             validation_data=validation_gen,\n",
    "                             validation_steps=50)"
   ]
  },
  {
   "cell_type": "code",
   "execution_count": 21,
   "id": "7ebbcd97",
   "metadata": {},
   "outputs": [
    {
     "data": {
      "image/png": "[encoded data removed]",
      "text/plain": [
       "<Figure size 576x360 with 1 Axes>"
      ]
     },
     "metadata": {
      "needs_background": "light"
     },
     "output_type": "display_data"
    }
   ],
   "source": [
    "pd.DataFrame(history.history).plot(figsize = (8,5))\n",
    "plt.grid(True)\n",
    "plt.gca().set_ylim(0,1)\n",
    "plt.show()"
   ]
  },
  {
   "cell_type": "code",
   "execution_count": 22,
   "id": "d83cf31e",
   "metadata": {},
   "outputs": [],
   "source": [
    "model.save(\"CNNmodel.h5\")"
   ]
  },
  {
   "cell_type": "code",
   "execution_count": 23,
   "id": "8bffdd08",
   "metadata": {},
   "outputs": [],
   "source": [
    "from tensorflow.keras import backend as K\n",
    "K.clear_session()"
   ]
  },
  {
   "cell_type": "code",
   "execution_count": 25,
   "id": "f1065db4",
   "metadata": {},
   "outputs": [],
   "source": [
    "del model"
   ]
  },
  {
   "cell_type": "markdown",
   "id": "25880595",
   "metadata": {},
   "source": [
    "# Data Augmentation"
   ]
  },
  {
   "cell_type": "code",
   "execution_count": 9,
   "id": "2639df6c",
   "metadata": {},
   "outputs": [
    {
     "name": "stdout",
     "output_type": "stream",
     "text": [
      "Found 2000 images belonging to 2 classes.\n",
      "Found 1000 images belonging to 2 classes.\n"
     ]
    }
   ],
   "source": [
    "train_datagen = ImageDataGenerator(rescale = 1/255,\n",
    "                                  rotation_range=40,\n",
    "                                  width_shift_range=0.2,\n",
    "                                  height_shift_range=0.2,\n",
    "                                  shear_range=0.2,\n",
    "                                  zoom_range=0.2,\n",
    "                                  horizontal_flip=True)\n",
    "\n",
    "test_datagen = ImageDataGenerator(rescale=1/255)\n",
    "\n",
    "train_generator = train_datagen.flow_from_directory(train_dir, \n",
    "                                                   target_size=(150,150),\n",
    "                                                   batch_size=20,\n",
    "                                                   class_mode='binary')\n",
    "\n",
    "validation_generator = test_datagen.flow_from_directory(valid_dir, \n",
    "                                                   target_size=(150,150),\n",
    "                                                   batch_size=20,\n",
    "                                                   class_mode='binary')"
   ]
  },
  {
   "cell_type": "code",
   "execution_count": 27,
   "id": "39bb3fe9",
   "metadata": {},
   "outputs": [],
   "source": [
    "model = models.Sequential()\n",
    "\n",
    "model.add(layers.Conv2D(32, (3,3), activation = \"relu\", input_shape = (150,150,3)))\n",
    "model.add(layers.MaxPool2D(2,2))\n",
    "\n",
    "model.add(layers.Conv2D(64, (3,3), activation = \"relu\"))\n",
    "model.add(layers.MaxPool2D(2,2))\n",
    "\n",
    "model.add(layers.Conv2D(128, (3,3), activation = \"relu\"))\n",
    "model.add(layers.MaxPool2D(2,2))\n",
    "\n",
    "model.add(layers.Conv2D(128, (3,3), activation = \"relu\"))\n",
    "model.add(layers.MaxPool2D(2,2))\n",
    "\n",
    "model.add(layers.Flatten())\n",
    "model.add(layers.Dropout(0.5))\n",
    "\n",
    "model.add(layers.Dense(512, activation = \"relu\"))\n",
    "model.add(layers.Dense(1, activation = \"sigmoid\"))\n",
    "\n",
    "from tensorflow.keras import optimizers\n",
    "\n",
    "model.compile(loss = \"binary_crossentropy\",\n",
    "             optimizer = optimizers.RMSprop(lr=1e-4),\n",
    "             metrics=['acc'])"
   ]
  },
  {
   "cell_type": "code",
   "execution_count": 28,
   "id": "796141ef",
   "metadata": {},
   "outputs": [
    {
     "name": "stdout",
     "output_type": "stream",
     "text": [
      "Epoch 1/50\n",
      "100/100 [==============================] - 53s 532ms/step - loss: 0.6936 - acc: 0.5140 - val_loss: 0.6875 - val_acc: 0.5000\n",
      "Epoch 2/50\n",
      "100/100 [==============================] - 61s 610ms/step - loss: 0.6871 - acc: 0.5415 - val_loss: 0.6698 - val_acc: 0.5830\n",
      "Epoch 3/50\n",
      "100/100 [==============================] - 56s 559ms/step - loss: 0.6714 - acc: 0.5870 - val_loss: 0.6677 - val_acc: 0.5630\n",
      "Epoch 4/50\n",
      "100/100 [==============================] - 53s 534ms/step - loss: 0.6635 - acc: 0.5960 - val_loss: 0.6636 - val_acc: 0.5990\n",
      "Epoch 5/50\n",
      "100/100 [==============================] - 56s 562ms/step - loss: 0.6511 - acc: 0.6255 - val_loss: 0.6353 - val_acc: 0.6210\n",
      "Epoch 6/50\n",
      "100/100 [==============================] - 56s 564ms/step - loss: 0.6367 - acc: 0.6245 - val_loss: 0.6430 - val_acc: 0.6230\n",
      "Epoch 7/50\n",
      "100/100 [==============================] - 54s 543ms/step - loss: 0.6216 - acc: 0.6565 - val_loss: 0.6345 - val_acc: 0.6120\n",
      "Epoch 8/50\n",
      "100/100 [==============================] - 59s 586ms/step - loss: 0.6120 - acc: 0.6505 - val_loss: 0.5888 - val_acc: 0.6810\n",
      "Epoch 9/50\n",
      "100/100 [==============================] - 57s 570ms/step - loss: 0.6108 - acc: 0.6600 - val_loss: 0.5636 - val_acc: 0.7000\n",
      "Epoch 10/50\n",
      "100/100 [==============================] - 56s 557ms/step - loss: 0.5959 - acc: 0.6810 - val_loss: 0.5680 - val_acc: 0.6940\n",
      "Epoch 11/50\n",
      "100/100 [==============================] - 56s 561ms/step - loss: 0.5885 - acc: 0.6900 - val_loss: 0.5631 - val_acc: 0.6910\n",
      "Epoch 12/50\n",
      "100/100 [==============================] - 56s 558ms/step - loss: 0.5865 - acc: 0.6820 - val_loss: 0.5583 - val_acc: 0.7050\n",
      "Epoch 13/50\n",
      "100/100 [==============================] - 53s 534ms/step - loss: 0.5873 - acc: 0.6930 - val_loss: 0.6166 - val_acc: 0.6510\n",
      "Epoch 14/50\n",
      "100/100 [==============================] - 56s 562ms/step - loss: 0.5774 - acc: 0.6965 - val_loss: 0.5928 - val_acc: 0.6730\n",
      "Epoch 15/50\n",
      "100/100 [==============================] - 59s 587ms/step - loss: 0.5718 - acc: 0.6985 - val_loss: 0.5546 - val_acc: 0.7070\n",
      "Epoch 16/50\n",
      "100/100 [==============================] - 56s 556ms/step - loss: 0.5568 - acc: 0.7075 - val_loss: 0.5443 - val_acc: 0.7150\n",
      "Epoch 17/50\n",
      "100/100 [==============================] - 57s 565ms/step - loss: 0.5514 - acc: 0.7165 - val_loss: 0.5217 - val_acc: 0.7420\n",
      "Epoch 18/50\n",
      "100/100 [==============================] - 57s 572ms/step - loss: 0.5624 - acc: 0.7070 - val_loss: 0.5140 - val_acc: 0.7480\n",
      "Epoch 19/50\n",
      "100/100 [==============================] - 57s 570ms/step - loss: 0.5641 - acc: 0.7065 - val_loss: 0.5390 - val_acc: 0.7210\n",
      "Epoch 20/50\n",
      "100/100 [==============================] - 54s 544ms/step - loss: 0.5590 - acc: 0.7245 - val_loss: 0.5075 - val_acc: 0.7330\n",
      "Epoch 21/50\n",
      "100/100 [==============================] - 54s 541ms/step - loss: 0.5355 - acc: 0.7350 - val_loss: 0.5130 - val_acc: 0.7260\n",
      "Epoch 22/50\n",
      "100/100 [==============================] - 59s 592ms/step - loss: 0.5557 - acc: 0.7150 - val_loss: 0.5003 - val_acc: 0.7520\n",
      "Epoch 23/50\n",
      "100/100 [==============================] - 56s 563ms/step - loss: 0.5406 - acc: 0.7290 - val_loss: 0.5547 - val_acc: 0.7110\n",
      "Epoch 24/50\n",
      "100/100 [==============================] - 55s 554ms/step - loss: 0.5042 - acc: 0.7500 - val_loss: 0.5327 - val_acc: 0.7300\n",
      "Epoch 25/50\n",
      "100/100 [==============================] - 60s 604ms/step - loss: 0.5386 - acc: 0.7305 - val_loss: 0.5179 - val_acc: 0.7430\n",
      "Epoch 26/50\n",
      "100/100 [==============================] - 57s 568ms/step - loss: 0.5312 - acc: 0.7335 - val_loss: 0.6131 - val_acc: 0.6730\n",
      "Epoch 27/50\n",
      "100/100 [==============================] - 57s 571ms/step - loss: 0.5166 - acc: 0.7470 - val_loss: 0.5146 - val_acc: 0.7400\n",
      "Epoch 28/50\n",
      "100/100 [==============================] - 57s 571ms/step - loss: 0.5147 - acc: 0.7405 - val_loss: 0.4742 - val_acc: 0.7670\n",
      "Epoch 29/50\n",
      "100/100 [==============================] - 57s 574ms/step - loss: 0.5273 - acc: 0.7325 - val_loss: 0.4902 - val_acc: 0.7650\n",
      "Epoch 30/50\n",
      "100/100 [==============================] - 57s 566ms/step - loss: 0.5230 - acc: 0.7295 - val_loss: 0.4713 - val_acc: 0.7830\n",
      "Epoch 31/50\n",
      "100/100 [==============================] - 61s 611ms/step - loss: 0.5078 - acc: 0.7385 - val_loss: 0.4692 - val_acc: 0.7680\n",
      "Epoch 32/50\n",
      "100/100 [==============================] - 58s 575ms/step - loss: 0.5068 - acc: 0.7485 - val_loss: 0.5410 - val_acc: 0.7320\n",
      "Epoch 33/50\n",
      "100/100 [==============================] - 57s 575ms/step - loss: 0.5098 - acc: 0.7535 - val_loss: 0.4910 - val_acc: 0.7560\n",
      "Epoch 34/50\n",
      "100/100 [==============================] - 56s 557ms/step - loss: 0.5066 - acc: 0.7560 - val_loss: 0.4788 - val_acc: 0.7590\n",
      "Epoch 35/50\n",
      "100/100 [==============================] - 57s 568ms/step - loss: 0.5138 - acc: 0.7420 - val_loss: 0.4622 - val_acc: 0.7720\n",
      "Epoch 36/50\n",
      "100/100 [==============================] - 55s 550ms/step - loss: 0.4986 - acc: 0.7635 - val_loss: 0.4756 - val_acc: 0.7620\n",
      "Epoch 37/50\n",
      "100/100 [==============================] - 53s 534ms/step - loss: 0.5026 - acc: 0.7595 - val_loss: 0.5035 - val_acc: 0.7650\n",
      "Epoch 38/50\n",
      "100/100 [==============================] - 54s 538ms/step - loss: 0.4865 - acc: 0.7670 - val_loss: 0.5036 - val_acc: 0.7490\n",
      "Epoch 39/50\n",
      "100/100 [==============================] - 53s 531ms/step - loss: 0.4920 - acc: 0.7660 - val_loss: 0.4713 - val_acc: 0.7730\n",
      "Epoch 40/50\n",
      "100/100 [==============================] - 53s 530ms/step - loss: 0.4933 - acc: 0.7620 - val_loss: 0.4921 - val_acc: 0.7550\n",
      "Epoch 41/50\n",
      "100/100 [==============================] - 54s 544ms/step - loss: 0.4732 - acc: 0.7730 - val_loss: 0.5039 - val_acc: 0.7570\n",
      "Epoch 42/50\n",
      "100/100 [==============================] - 54s 538ms/step - loss: 0.4829 - acc: 0.7720 - val_loss: 0.4644 - val_acc: 0.7720\n",
      "Epoch 43/50\n",
      "100/100 [==============================] - 54s 537ms/step - loss: 0.4767 - acc: 0.7710 - val_loss: 0.4467 - val_acc: 0.7900\n",
      "Epoch 44/50\n",
      "100/100 [==============================] - 53s 528ms/step - loss: 0.4727 - acc: 0.7770 - val_loss: 0.4579 - val_acc: 0.7880\n",
      "Epoch 45/50\n",
      "100/100 [==============================] - 54s 536ms/step - loss: 0.4798 - acc: 0.7695 - val_loss: 0.4595 - val_acc: 0.7770\n",
      "Epoch 46/50\n",
      "100/100 [==============================] - 53s 528ms/step - loss: 0.4780 - acc: 0.7680 - val_loss: 0.4630 - val_acc: 0.7870\n",
      "Epoch 47/50\n",
      "100/100 [==============================] - 54s 536ms/step - loss: 0.4613 - acc: 0.7810 - val_loss: 0.4262 - val_acc: 0.8020\n",
      "Epoch 48/50\n",
      "100/100 [==============================] - 54s 544ms/step - loss: 0.4714 - acc: 0.7715 - val_loss: 0.4814 - val_acc: 0.7750\n",
      "Epoch 49/50\n",
      "100/100 [==============================] - 59s 588ms/step - loss: 0.4609 - acc: 0.7870 - val_loss: 0.4461 - val_acc: 0.7920\n",
      "Epoch 50/50\n",
      "100/100 [==============================] - 58s 578ms/step - loss: 0.4748 - acc: 0.7820 - val_loss: 0.5406 - val_acc: 0.7490\n"
     ]
    }
   ],
   "source": [
    "# We cannot use 100 as steps_per_epoch \n",
    "# this is because we have 1000 images in training data and  batch size is 32 now 1000/32=31.25   hence we only have 31 batches \n",
    "# so our input data have only 31 batches but we are training for 100 batches hence the error occured(input ran out of data)\n",
    "history = model.fit_generator(train_generator,\n",
    "                             steps_per_epoch = 100,\n",
    "                             epochs = 50,\n",
    "                             validation_data=validation_generator,\n",
    "                             validation_steps=50)"
   ]
  },
  {
   "cell_type": "code",
   "execution_count": 29,
   "id": "b7b59a46",
   "metadata": {},
   "outputs": [],
   "source": [
    "model.save(\"CNN_augmented.h5\")"
   ]
  },
  {
   "cell_type": "code",
   "execution_count": 30,
   "id": "e372801c",
   "metadata": {},
   "outputs": [
    {
     "data": {
      "image/png": "[encoded data removed]",
      "text/plain": [
       "<Figure size 576x360 with 1 Axes>"
      ]
     },
     "metadata": {
      "needs_background": "light"
     },
     "output_type": "display_data"
    }
   ],
   "source": [
    "pd.DataFrame(history.history).plot(figsize = (8,5))\n",
    "plt.grid(True)\n",
    "plt.gca().set_ylim(0,1)\n",
    "plt.show()"
   ]
  },
  {
   "cell_type": "markdown",
   "id": "631bd7cc",
   "metadata": {},
   "source": [
    "# Final Testing"
   ]
  },
  {
   "cell_type": "code",
   "execution_count": 10,
   "id": "891f4b52",
   "metadata": {},
   "outputs": [
    {
     "name": "stdout",
     "output_type": "stream",
     "text": [
      "Found 1000 images belonging to 2 classes.\n"
     ]
    }
   ],
   "source": [
    "# The increased accuracy could be further achieved by using VGG16\n",
    "# VGG16 is a convolution neural net (CNN ) architecture which won ILSVR(Imagenet) competition in 2014\n",
    "test_generator = test_datagen.flow_from_directory(test_dir, \n",
    "                                                   target_size=(150,150),\n",
    "                                                   batch_size=20,\n",
    "                                                   class_mode='binary')"
   ]
  },
  {
   "cell_type": "code",
   "execution_count": 11,
   "id": "d195be2b",
   "metadata": {},
   "outputs": [],
   "source": [
    "model = keras.models.load_model(\"CNN_augmented.h5\")"
   ]
  },
  {
   "cell_type": "code",
   "execution_count": 15,
   "id": "36c27cb7",
   "metadata": {},
   "outputs": [
    {
     "data": {
      "text/plain": [
       "[0.5946904420852661, 0.7250000238418579]"
      ]
     },
     "execution_count": 15,
     "metadata": {},
     "output_type": "execute_result"
    }
   ],
   "source": [
    "model.evaluate_generator(test_generator,steps=50)\n",
    "# First argument is the loss value and the second one is accuracy"
   ]
  }
 ],
 "metadata": {
  "kernelspec": {
   "display_name": "Python 3",
   "language": "python",
   "name": "python3"
  },
  "language_info": {
   "codemirror_mode": {
    "name": "ipython",
    "version": 3
   },
   "file_extension": ".py",
   "mimetype": "text/x-python",
   "name": "python",
   "nbconvert_exporter": "python",
   "pygments_lexer": "ipython3",
   "version": "3.8.8"
  }
 },
 "nbformat": 4,
 "nbformat_minor": 5
}
