{
 "cells": [
  {
   "cell_type": "markdown",
   "id": "2010cce3",
   "metadata": {},
   "source": [
    "# To classify cats and dogs from given coloured pictures"
   ]
  },
  {
   "cell_type": "markdown",
   "id": "2af31211",
   "metadata": {},
   "source": [
    "### Details\n",
    "1. Binary classification problem <br>\n",
    "2. coloured Images <br>\n",
    "3. No standard Dimension <br>\n",
    "4. Dataset will be taken from kaggle(site where multiple data science competitions are held, and various datasets are also available) <br>\n",
    "5. We'll have to use the subset of the data <br>"
   ]
  },
  {
   "cell_type": "markdown",
   "id": "b114fb6d",
   "metadata": {},
   "source": [
    "# Importing Libraries"
   ]
  },
  {
   "cell_type": "code",
   "execution_count": 1,
   "id": "240a134b",
   "metadata": {},
   "outputs": [],
   "source": [
    "import numpy as np\n",
    "import pandas as pd\n",
    "%matplotlib inline\n",
    "import matplotlib as mpl\n",
    "import matplotlib.pyplot as plt"
   ]
  },
  {
   "cell_type": "code",
   "execution_count": 2,
   "id": "4194662b",
   "metadata": {},
   "outputs": [],
   "source": [
    "import tensorflow as tf\n",
    "from tensorflow import keras"
   ]
  },
  {
   "cell_type": "code",
   "execution_count": 4,
   "id": "0c1c3006",
   "metadata": {},
   "outputs": [
    {
     "data": {
      "text/plain": [
       "'2.3.0'"
      ]
     },
     "execution_count": 4,
     "metadata": {},
     "output_type": "execute_result"
    }
   ],
   "source": [
    "tf.__version__"
   ]
  },
  {
   "cell_type": "code",
   "execution_count": 5,
   "id": "222edfec",
   "metadata": {},
   "outputs": [],
   "source": [
    "# Dataset consists of 4000 images distributed in to 2000 images for train set(both cats and dogs) ,1000 images for validation\n",
    "# set and 1000 images for test set\n"
   ]
  },
  {
   "cell_type": "markdown",
   "id": "d0ca18bb",
   "metadata": {},
   "source": [
    "# Importing directories"
   ]
  },
  {
   "cell_type": "code",
   "execution_count": 6,
   "id": "689fd468",
   "metadata": {},
   "outputs": [],
   "source": [
    "train_dir = r\"C:\\Users\\USER\\OneDrive\\Desktop\\ml\\CNN\\train\"\n",
    "valid_dir = r\"C:\\Users\\USER\\OneDrive\\Desktop\\ml\\CNN\\validation\"\n",
    "test_dir = r\"C:\\Users\\USER\\OneDrive\\Desktop\\ml\\CNN\\test\""
   ]
  },
  {
   "cell_type": "markdown",
   "id": "4e7ea30b",
   "metadata": {},
   "source": [
    "# Data preprocessing\n",
    "Since the data isn't standardised we need to perform some steps\n",
    "<ul>\n",
    "    <li>read the picture files</li>\n",
    "    <li>Decode jpg format into RBG</li>\n",
    "    <li>Convert these files into floating point tensors</li>\n",
    "    <li>Rescale the pixels of range[0 to 255] into [0,1] range</li>\n",
    "</ul><br>\n",
    "This can be done by ImageDataGenerator module of tensorflow library"
   ]
  },
  {
   "cell_type": "code",
   "execution_count": 7,
   "id": "1b553ae9",
   "metadata": {},
   "outputs": [],
   "source": [
    "from tensorflow.keras.preprocessing.image import ImageDataGenerator"
   ]
  },
  {
   "cell_type": "code",
   "execution_count": 11,
   "id": "03962b85",
   "metadata": {},
   "outputs": [
    {
     "name": "stdout",
     "output_type": "stream",
     "text": [
      "Found 2000 images belonging to 2 classes.\n",
      "Found 1000 images belonging to 2 classes.\n"
     ]
    }
   ],
   "source": [
    "# Generating batches of tensor image data\n",
    "train_datagen = ImageDataGenerator(rescale=1/255)\n",
    "test_datagen = ImageDataGenerator(rescale=1/255)\n",
    "\n",
    "# Since my data is located in folder I need to use the below function\n",
    "train_gen = train_datagen.flow_from_directory(train_dir,\n",
    "                                             target_size = (150,150),\n",
    "                                             batch_size = 20,\n",
    "                                             class_mode = \"binary\")\n",
    "validation_gen = test_datagen.flow_from_directory(valid_dir,\n",
    "                                             target_size = (150,150),\n",
    "                                             batch_size = 20,\n",
    "                                             class_mode = \"binary\")"
   ]
  },
  {
   "cell_type": "code",
   "execution_count": 12,
   "id": "d1badb17",
   "metadata": {},
   "outputs": [],
   "source": [
    "from tensorflow.keras import layers\n",
    "from tensorflow.keras import models"
   ]
  },
  {
   "cell_type": "code",
   "execution_count": 14,
   "id": "3004c24c",
   "metadata": {},
   "outputs": [],
   "source": [
    "model = models.Sequential()\n",
    "\n",
    "model.add(layers.Conv2D(32, (3,3), activation = \"relu\", input_shape = (150,150,3)))\n",
    "model.add(layers.MaxPool2D(2,2))\n",
    "\n",
    "model.add(layers.Conv2D(64, (3,3), activation = \"relu\"))\n",
    "model.add(layers.MaxPool2D(2,2))\n",
    "\n",
    "model.add(layers.Conv2D(128, (3,3), activation = \"relu\"))\n",
    "model.add(layers.MaxPool2D(2,2))\n",
    "\n",
    "model.add(layers.Conv2D(128, (3,3), activation = \"relu\"))\n",
    "model.add(layers.MaxPool2D(2,2))\n",
    "\n",
    "model.add(layers.Flatten())\n",
    "model.add(layers.Dense(512, activation = \"relu\"))\n",
    "\n",
    "model.add(layers.Dense(1, activation = \"sigmoid\"))"
   ]
  },
  {
   "cell_type": "code",
   "execution_count": 15,
   "id": "68702600",
   "metadata": {},
   "outputs": [
    {
     "name": "stdout",
     "output_type": "stream",
     "text": [
      "Model: \"sequential_1\"\n",
      "_________________________________________________________________\n",
      "Layer (type)                 Output Shape              Param #   \n",
      "=================================================================\n",
      "conv2d_4 (Conv2D)            (None, 148, 148, 32)      896       \n",
      "_________________________________________________________________\n",
      "max_pooling2d_4 (MaxPooling2 (None, 74, 74, 32)        0         \n",
      "_________________________________________________________________\n",
      "conv2d_5 (Conv2D)            (None, 72, 72, 64)        18496     \n",
      "_________________________________________________________________\n",
      "max_pooling2d_5 (MaxPooling2 (None, 36, 36, 64)        0         \n",
      "_________________________________________________________________\n",
      "conv2d_6 (Conv2D)            (None, 34, 34, 128)       73856     \n",
      "_________________________________________________________________\n",
      "max_pooling2d_6 (MaxPooling2 (None, 17, 17, 128)       0         \n",
      "_________________________________________________________________\n",
      "conv2d_7 (Conv2D)            (None, 15, 15, 128)       147584    \n",
      "_________________________________________________________________\n",
      "max_pooling2d_7 (MaxPooling2 (None, 7, 7, 128)         0         \n",
      "_________________________________________________________________\n",
      "flatten_1 (Flatten)          (None, 6272)              0         \n",
      "_________________________________________________________________\n",
      "dense (Dense)                (None, 512)               3211776   \n",
      "_________________________________________________________________\n",
      "dense_1 (Dense)              (None, 1)                 513       \n",
      "=================================================================\n",
      "Total params: 3,453,121\n",
      "Trainable params: 3,453,121\n",
      "Non-trainable params: 0\n",
      "_________________________________________________________________\n"
     ]
    }
   ],
   "source": [
    "model.summary()"
   ]
  },
  {
   "cell_type": "code",
   "execution_count": 19,
   "id": "496f9983",
   "metadata": {},
   "outputs": [],
   "source": [
    "from tensorflow.keras import optimizers\n",
    "\n",
    "model.compile(loss = \"binary_crossentropy\",\n",
    "             optimizer = optimizers.RMSprop(lr=1e-4),\n",
    "             metrics=['acc'])"
   ]
  },
  {
   "cell_type": "code",
   "execution_count": 20,
   "id": "ea31569a",
   "metadata": {},
   "outputs": [
    {
     "name": "stdout",
     "output_type": "stream",
     "text": [
      "WARNING:tensorflow:From <ipython-input-20-ddaeff37f3b7>:1: Model.fit_generator (from tensorflow.python.keras.engine.training) is deprecated and will be removed in a future version.\n",
      "Instructions for updating:\n",
      "Please use Model.fit, which supports generators.\n",
      "Epoch 1/20\n",
      "100/100 [==============================] - 57s 575ms/step - loss: 0.6914 - acc: 0.5405 - val_loss: 0.6707 - val_acc: 0.6260\n",
      "Epoch 2/20\n",
      "100/100 [==============================] - 58s 585ms/step - loss: 0.6546 - acc: 0.6240 - val_loss: 0.6368 - val_acc: 0.6490\n",
      "Epoch 3/20\n",
      "100/100 [==============================] - 57s 573ms/step - loss: 0.5998 - acc: 0.6845 - val_loss: 0.6081 - val_acc: 0.6530\n",
      "Epoch 4/20\n",
      "100/100 [==============================] - 52s 522ms/step - loss: 0.5581 - acc: 0.7195 - val_loss: 0.6037 - val_acc: 0.6590\n",
      "Epoch 5/20\n",
      "100/100 [==============================] - 52s 520ms/step - loss: 0.5299 - acc: 0.7260 - val_loss: 0.5881 - val_acc: 0.6820\n",
      "Epoch 6/20\n",
      "100/100 [==============================] - 52s 519ms/step - loss: 0.5103 - acc: 0.7330 - val_loss: 0.5691 - val_acc: 0.6940\n",
      "Epoch 7/20\n",
      "100/100 [==============================] - 53s 526ms/step - loss: 0.4764 - acc: 0.7655 - val_loss: 0.6073 - val_acc: 0.6800\n",
      "Epoch 8/20\n",
      "100/100 [==============================] - 52s 522ms/step - loss: 0.4583 - acc: 0.7775 - val_loss: 0.5646 - val_acc: 0.7090\n",
      "Epoch 9/20\n",
      "100/100 [==============================] - 52s 523ms/step - loss: 0.4339 - acc: 0.7955 - val_loss: 0.5564 - val_acc: 0.6980\n",
      "Epoch 10/20\n",
      "100/100 [==============================] - 52s 521ms/step - loss: 0.4136 - acc: 0.8065 - val_loss: 0.5643 - val_acc: 0.7210\n",
      "Epoch 11/20\n",
      "100/100 [==============================] - 53s 529ms/step - loss: 0.3837 - acc: 0.8305 - val_loss: 0.5622 - val_acc: 0.7250\n",
      "Epoch 12/20\n",
      "100/100 [==============================] - 52s 522ms/step - loss: 0.3517 - acc: 0.8425 - val_loss: 0.5973 - val_acc: 0.6970\n",
      "Epoch 13/20\n",
      "100/100 [==============================] - 52s 516ms/step - loss: 0.3281 - acc: 0.8665 - val_loss: 0.5715 - val_acc: 0.7400\n",
      "Epoch 14/20\n",
      "100/100 [==============================] - 52s 521ms/step - loss: 0.3074 - acc: 0.8755 - val_loss: 0.5939 - val_acc: 0.7140\n",
      "Epoch 15/20\n",
      "100/100 [==============================] - 52s 519ms/step - loss: 0.2901 - acc: 0.8815 - val_loss: 0.6038 - val_acc: 0.7220\n",
      "Epoch 16/20\n",
      "100/100 [==============================] - 52s 523ms/step - loss: 0.2638 - acc: 0.8935 - val_loss: 0.5990 - val_acc: 0.7160\n",
      "Epoch 17/20\n",
      "100/100 [==============================] - 52s 520ms/step - loss: 0.2380 - acc: 0.9105 - val_loss: 0.6296 - val_acc: 0.7240\n",
      "Epoch 18/20\n",
      "100/100 [==============================] - 53s 527ms/step - loss: 0.2189 - acc: 0.9150 - val_loss: 0.6516 - val_acc: 0.7280\n",
      "Epoch 19/20\n",
      "100/100 [==============================] - 52s 522ms/step - loss: 0.1976 - acc: 0.9250 - val_loss: 0.6978 - val_acc: 0.7140\n",
      "Epoch 20/20\n",
      "100/100 [==============================] - 52s 523ms/step - loss: 0.1799 - acc: 0.9360 - val_loss: 0.7927 - val_acc: 0.7060\n"
     ]
    }
   ],
   "source": [
    "history = model.fit_generator(train_gen,\n",
    "                             steps_per_epoch = 100,\n",
    "                             epochs = 20,\n",
    "                             validation_data=validation_gen,\n",
    "                             validation_steps=50)"
   ]
  },
  {
   "cell_type": "code",
   "execution_count": 21,
   "id": "fd98fe96",
   "metadata": {},
   "outputs": [
    {
     "data": {
      "image/png": "[encoded data removed]",
      "text/plain": [
       "<Figure size 576x360 with 1 Axes>"
      ]
     },
     "metadata": {
      "needs_background": "light"
     },
     "output_type": "display_data"
    }
   ],
   "source": [
    "pd.DataFrame(history.history).plot(figsize = (8,5))\n",
    "plt.grid(True)\n",
    "plt.gca().set_ylim(0,1)\n",
    "plt.show()"
   ]
  },
  {
   "cell_type": "code",
   "execution_count": 22,
   "id": "b1d7962f",
   "metadata": {},
   "outputs": [],
   "source": [
    "model.save(\"CNNmodel.h5\")"
   ]
  },
  {
   "cell_type": "code",
   "execution_count": 23,
   "id": "e037ba96",
   "metadata": {},
   "outputs": [],
   "source": [
    "from tensorflow.keras import backend as K\n",
    "K.clear_session()"
   ]
  },
  {
   "cell_type": "code",
   "execution_count": 24,
   "id": "63aef0d9",
   "metadata": {},
   "outputs": [],
   "source": [
    "del model"
   ]
  },
  {
   "cell_type": "code",
   "execution_count": null,
   "id": "b896eb1c",
   "metadata": {},
   "outputs": [],
   "source": []
  }
 ],
 "metadata": {
  "kernelspec": {
   "display_name": "Python 3",
   "language": "python",
   "name": "python3"
  },
  "language_info": {
   "codemirror_mode": {
    "name": "ipython",
    "version": 3
   },
   "file_extension": ".py",
   "mimetype": "text/x-python",
   "name": "python",
   "nbconvert_exporter": "python",
   "pygments_lexer": "ipython3",
   "version": "3.8.8"
  }
 },
 "nbformat": 4,
 "nbformat_minor": 5
}
